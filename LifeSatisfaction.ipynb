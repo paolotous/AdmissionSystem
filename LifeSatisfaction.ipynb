{
  "nbformat": 4,
  "nbformat_minor": 0,
  "metadata": {
    "colab": {
      "name": "LifeSatisfaction.ipynb",
      "provenance": [],
      "mount_file_id": "1fjkMMLJjQ6f2vlipZ2u7eDuHxkZjkl04",
      "authorship_tag": "ABX9TyM62UIBCfNoeCsQPVgC7XTF"
    },
    "kernelspec": {
      "name": "python3",
      "display_name": "Python 3"
    }
  },
  "cells": [
    {
      "cell_type": "code",
      "metadata": {
        "id": "xCkbfd77fx8S"
      },
      "source": [
        "def setup_stats(oecd, gdp):\r\n",
        "    oecd = oecd[oecd[\"INEQUALITY\"]==\"TOT\"]\r\n",
        "    oecd = oecd.pivot(index=\"Country\", columns=\"Indicator\", values=\"Value\")\r\n",
        "    gdp.rename(columns={\"2015\": \"GDP per capita\"}, inplace=True)\r\n",
        "    gdp.set_index(\"Country\", inplace=True)\r\n",
        "    country_stats = pd.merge(left=oecd, right=gdp,\r\n",
        "                                  left_index=True, right_index=True)\r\n",
        "    country_stats.sort_values(by=\"GDP per capita\", inplace=True)\r\n",
        "    idx_remove = [0, 1, 6, 8, 33, 34, 35]\r\n",
        "    idx_keep = list(set(range(36)) - set(idx_remove))\r\n",
        "    return country_stats[[\"GDP per capita\", 'Life satisfaction']].iloc[idx_keep]"
      ],
      "execution_count": null,
      "outputs": []
    },
    {
      "cell_type": "code",
      "metadata": {
        "colab": {
          "base_uri": "https://localhost:8080/",
          "height": 370
        },
        "id": "FOrrnLW4fZhF",
        "outputId": "fe7add12-18e7-4f7c-f568-6c04e652066b"
      },
      "source": [
        "import numpy as np\r\n",
        "import pandas as pd\r\n",
        "import matplotlib.pyplot as plt\r\n",
        "import sklearn.neighbors as skneighbor\r\n",
        "\r\n",
        "#Loading the datasets\r\n",
        "oecd_life = pd.read_csv('/content/drive/MyDrive/Colab Notebooks/Datasets/BetterLife.csv', thousands=',')\r\n",
        "gdp_world_data = pd.read_csv('/content/drive/MyDrive/Colab Notebooks/Datasets/gdp_world.csv',thousands=',',delimiter='\\t',\r\n",
        "                             encoding='latin1', na_values=\"n/a\")\r\n",
        "\r\n",
        "#Modifying the dataset and setting it up for testing the model\r\n",
        "country_stats = setup_stats(oecd_life, gdp_world_data)\r\n",
        "x = np.c_[country_stats[\"GDP per capita\"]]\r\n",
        "y = np.c_[country_stats[\"Life satisfaction\"]]\r\n",
        "\r\n",
        "#Data Visualization Phase\r\n",
        "country_stats.plot(kind='scatter', x=\"GDP per capita\", y='Life satisfaction')\r\n",
        "plt.show()\r\n",
        "\r\n",
        "#Setting up and training the model\r\n",
        "model = skneighbor.neighbors.KNeighborsRegressor(n_neighbors=3)\r\n",
        "model.fit(x,y)\r\n",
        "\r\n",
        "#Testing the model\r\n",
        "test_x = [[19797]]\r\n",
        "print(model.predict(test_x))"
      ],
      "execution_count": null,
      "outputs": [
        {
          "output_type": "error",
          "ename": "KeyError",
          "evalue": "ignored",
          "traceback": [
            "\u001b[0;31m---------------------------------------------------------------------------\u001b[0m",
            "\u001b[0;31mKeyError\u001b[0m                                  Traceback (most recent call last)",
            "\u001b[0;32m<ipython-input-3-18aec3d96e21>\u001b[0m in \u001b[0;36m<module>\u001b[0;34m()\u001b[0m\n\u001b[1;32m     10\u001b[0m \u001b[0;34m\u001b[0m\u001b[0m\n\u001b[1;32m     11\u001b[0m \u001b[0;31m#Modifying the dataset and setting it up for testing the model\u001b[0m\u001b[0;34m\u001b[0m\u001b[0;34m\u001b[0m\u001b[0;34m\u001b[0m\u001b[0m\n\u001b[0;32m---> 12\u001b[0;31m \u001b[0mcountry_stats\u001b[0m \u001b[0;34m=\u001b[0m \u001b[0msetup_stats\u001b[0m\u001b[0;34m(\u001b[0m\u001b[0moecd_life\u001b[0m\u001b[0;34m,\u001b[0m \u001b[0mgdp_world_data\u001b[0m\u001b[0;34m)\u001b[0m\u001b[0;34m\u001b[0m\u001b[0;34m\u001b[0m\u001b[0m\n\u001b[0m\u001b[1;32m     13\u001b[0m \u001b[0mx\u001b[0m \u001b[0;34m=\u001b[0m \u001b[0mnp\u001b[0m\u001b[0;34m.\u001b[0m\u001b[0mc_\u001b[0m\u001b[0;34m[\u001b[0m\u001b[0mcountry_stats\u001b[0m\u001b[0;34m[\u001b[0m\u001b[0;34m\"GDP per capita\"\u001b[0m\u001b[0;34m]\u001b[0m\u001b[0;34m]\u001b[0m\u001b[0;34m\u001b[0m\u001b[0;34m\u001b[0m\u001b[0m\n\u001b[1;32m     14\u001b[0m \u001b[0my\u001b[0m \u001b[0;34m=\u001b[0m \u001b[0mnp\u001b[0m\u001b[0;34m.\u001b[0m\u001b[0mc_\u001b[0m\u001b[0;34m[\u001b[0m\u001b[0mcountry_stats\u001b[0m\u001b[0;34m[\u001b[0m\u001b[0;34m\"Life satisfaction\"\u001b[0m\u001b[0;34m]\u001b[0m\u001b[0;34m]\u001b[0m\u001b[0;34m\u001b[0m\u001b[0;34m\u001b[0m\u001b[0m\n",
            "\u001b[0;32m<ipython-input-1-7d72e520e42c>\u001b[0m in \u001b[0;36msetup_stats\u001b[0;34m(oecd, gdp)\u001b[0m\n\u001b[1;32m      3\u001b[0m     \u001b[0moecd\u001b[0m \u001b[0;34m=\u001b[0m \u001b[0moecd\u001b[0m\u001b[0;34m.\u001b[0m\u001b[0mpivot\u001b[0m\u001b[0;34m(\u001b[0m\u001b[0mindex\u001b[0m\u001b[0;34m=\u001b[0m\u001b[0;34m\"Country\"\u001b[0m\u001b[0;34m,\u001b[0m \u001b[0mcolumns\u001b[0m\u001b[0;34m=\u001b[0m\u001b[0;34m\"Indicator\"\u001b[0m\u001b[0;34m,\u001b[0m \u001b[0mvalues\u001b[0m\u001b[0;34m=\u001b[0m\u001b[0;34m\"Value\"\u001b[0m\u001b[0;34m)\u001b[0m\u001b[0;34m\u001b[0m\u001b[0;34m\u001b[0m\u001b[0m\n\u001b[1;32m      4\u001b[0m     \u001b[0mgdp\u001b[0m\u001b[0;34m.\u001b[0m\u001b[0mrename\u001b[0m\u001b[0;34m(\u001b[0m\u001b[0mcolumns\u001b[0m\u001b[0;34m=\u001b[0m\u001b[0;34m{\u001b[0m\u001b[0;34m\"2015\"\u001b[0m\u001b[0;34m:\u001b[0m \u001b[0;34m\"GDP per capita\"\u001b[0m\u001b[0;34m}\u001b[0m\u001b[0;34m,\u001b[0m \u001b[0minplace\u001b[0m\u001b[0;34m=\u001b[0m\u001b[0;32mTrue\u001b[0m\u001b[0;34m)\u001b[0m\u001b[0;34m\u001b[0m\u001b[0;34m\u001b[0m\u001b[0m\n\u001b[0;32m----> 5\u001b[0;31m     \u001b[0mgdp\u001b[0m\u001b[0;34m.\u001b[0m\u001b[0mset_index\u001b[0m\u001b[0;34m(\u001b[0m\u001b[0;34m\"Country\"\u001b[0m\u001b[0;34m,\u001b[0m \u001b[0minplace\u001b[0m\u001b[0;34m=\u001b[0m\u001b[0;32mTrue\u001b[0m\u001b[0;34m)\u001b[0m\u001b[0;34m\u001b[0m\u001b[0;34m\u001b[0m\u001b[0m\n\u001b[0m\u001b[1;32m      6\u001b[0m     country_stats = pd.merge(left=oecd, right=gdp,\n\u001b[1;32m      7\u001b[0m                                   left_index=True, right_index=True)\n",
            "\u001b[0;32m/usr/local/lib/python3.7/dist-packages/pandas/core/frame.py\u001b[0m in \u001b[0;36mset_index\u001b[0;34m(self, keys, drop, append, inplace, verify_integrity)\u001b[0m\n\u001b[1;32m   4553\u001b[0m \u001b[0;34m\u001b[0m\u001b[0m\n\u001b[1;32m   4554\u001b[0m         \u001b[0;32mif\u001b[0m \u001b[0mmissing\u001b[0m\u001b[0;34m:\u001b[0m\u001b[0;34m\u001b[0m\u001b[0;34m\u001b[0m\u001b[0m\n\u001b[0;32m-> 4555\u001b[0;31m             \u001b[0;32mraise\u001b[0m \u001b[0mKeyError\u001b[0m\u001b[0;34m(\u001b[0m\u001b[0;34mf\"None of {missing} are in the columns\"\u001b[0m\u001b[0;34m)\u001b[0m\u001b[0;34m\u001b[0m\u001b[0;34m\u001b[0m\u001b[0m\n\u001b[0m\u001b[1;32m   4556\u001b[0m \u001b[0;34m\u001b[0m\u001b[0m\n\u001b[1;32m   4557\u001b[0m         \u001b[0;32mif\u001b[0m \u001b[0minplace\u001b[0m\u001b[0;34m:\u001b[0m\u001b[0;34m\u001b[0m\u001b[0;34m\u001b[0m\u001b[0m\n",
            "\u001b[0;31mKeyError\u001b[0m: \"None of ['Country'] are in the columns\""
          ]
        }
      ]
    }
  ]
}